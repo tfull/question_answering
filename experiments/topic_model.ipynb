{
 "cells": [
  {
   "cell_type": "code",
   "execution_count": 1,
   "metadata": {},
   "outputs": [],
   "source": [
    "import _common"
   ]
  },
  {
   "cell_type": "code",
   "execution_count": 2,
   "metadata": {},
   "outputs": [],
   "source": [
    "from erica.core import *\n",
    "from erica.model import *"
   ]
  },
  {
   "cell_type": "code",
   "execution_count": 3,
   "metadata": {},
   "outputs": [],
   "source": [
    "import os\n",
    "import contextlib\n",
    "\n",
    "\n",
    "from janome.tokenizer import Tokenizer\n",
    "with contextlib.redirect_stderr(open(os.devnull, \"w\")):\n",
    "    from gensim import corpora\n",
    "    import gensim.models.ldamodel"
   ]
  },
  {
   "cell_type": "code",
   "execution_count": 4,
   "metadata": {},
   "outputs": [],
   "source": [
    "entries = PlainText.find(list(range(100, 120 + 1)))\n",
    "tokenizer = Tokenizer()\n",
    "\n",
    "dictionary = corpora.Dictionary([])\n",
    "corpus = []"
   ]
  },
  {
   "cell_type": "code",
   "execution_count": 5,
   "metadata": {},
   "outputs": [],
   "source": [
    "for entry in entries:\n",
    "    words = [word for line in entry.text.split(\"\\n\") for word in tokenizer.tokenize(line, wakati=True)]\n",
    "    dictionary.add_documents([words])\n",
    "    corpus.append(dictionary.doc2bow(words))"
   ]
  },
  {
   "cell_type": "code",
   "execution_count": 6,
   "metadata": {},
   "outputs": [],
   "source": [
    "lda = gensim.models.ldamodel.LdaModel(\n",
    "    corpus = corpus,\n",
    "    num_topics = 7,\n",
    "    id2word = dictionary\n",
    ")"
   ]
  },
  {
   "cell_type": "code",
   "execution_count": null,
   "metadata": {},
   "outputs": [],
   "source": []
  }
 ],
 "metadata": {
  "kernelspec": {
   "display_name": "Python 3",
   "language": "python",
   "name": "python3"
  },
  "language_info": {
   "codemirror_mode": {
    "name": "ipython",
    "version": 3
   },
   "file_extension": ".py",
   "mimetype": "text/x-python",
   "name": "python",
   "nbconvert_exporter": "python",
   "pygments_lexer": "ipython3",
   "version": "3.6.7"
  }
 },
 "nbformat": 4,
 "nbformat_minor": 4
}
